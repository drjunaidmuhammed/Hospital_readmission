{
 "cells": [
  {
   "cell_type": "code",
   "execution_count": 1,
   "id": "7792a64c",
   "metadata": {},
   "outputs": [],
   "source": [
    "import pandas as pd\n",
    "import numpy as np\n",
    "import matplotlib.pyplot as plt\n"
   ]
  },
  {
   "cell_type": "code",
   "execution_count": 2,
   "id": "02b8a031",
   "metadata": {},
   "outputs": [],
   "source": [
    "data=pd.read_csv(r\"C:\\Users\\drjun\\OneDrive\\Documents\\hospital_readmissions.csv\")\n"
   ]
  },
  {
   "cell_type": "code",
   "execution_count": 3,
   "id": "7dabf5cb",
   "metadata": {},
   "outputs": [
    {
     "name": "stdout",
     "output_type": "stream",
     "text": [
      "       age  time_in_hospital  n_lab_procedures  n_procedures  n_medications  \\\n",
      "0  [70-80)                 8                72             1             18   \n",
      "1  [70-80)                 3                34             2             13   \n",
      "2  [50-60)                 5                45             0             18   \n",
      "3  [70-80)                 2                36             0             12   \n",
      "4  [60-70)                 1                42             0              7   \n",
      "\n",
      "   n_outpatient  n_inpatient  n_emergency medical_specialty       diag_1  \\\n",
      "0             2            0            0           Missing  Circulatory   \n",
      "1             0            0            0             Other        Other   \n",
      "2             0            0            0           Missing  Circulatory   \n",
      "3             1            0            0           Missing  Circulatory   \n",
      "4             0            0            0  InternalMedicine        Other   \n",
      "\n",
      "        diag_2       diag_3 glucose_test A1Ctest change diabetes_med  \\\n",
      "0  Respiratory        Other           no      no     no          yes   \n",
      "1        Other        Other           no      no     no          yes   \n",
      "2  Circulatory  Circulatory           no      no    yes          yes   \n",
      "3        Other     Diabetes           no      no    yes          yes   \n",
      "4  Circulatory  Respiratory           no      no     no          yes   \n",
      "\n",
      "  readmitted  \n",
      "0         no  \n",
      "1         no  \n",
      "2        yes  \n",
      "3        yes  \n",
      "4         no  \n",
      "age                  0\n",
      "time_in_hospital     0\n",
      "n_lab_procedures     0\n",
      "n_procedures         0\n",
      "n_medications        0\n",
      "n_outpatient         0\n",
      "n_inpatient          0\n",
      "n_emergency          0\n",
      "medical_specialty    0\n",
      "diag_1               0\n",
      "diag_2               0\n",
      "diag_3               0\n",
      "glucose_test         0\n",
      "A1Ctest              0\n",
      "change               0\n",
      "diabetes_med         0\n",
      "readmitted           0\n",
      "dtype: int64\n",
      "<class 'pandas.core.frame.DataFrame'>\n",
      "RangeIndex: 25000 entries, 0 to 24999\n",
      "Data columns (total 17 columns):\n",
      " #   Column             Non-Null Count  Dtype \n",
      "---  ------             --------------  ----- \n",
      " 0   age                25000 non-null  object\n",
      " 1   time_in_hospital   25000 non-null  int64 \n",
      " 2   n_lab_procedures   25000 non-null  int64 \n",
      " 3   n_procedures       25000 non-null  int64 \n",
      " 4   n_medications      25000 non-null  int64 \n",
      " 5   n_outpatient       25000 non-null  int64 \n",
      " 6   n_inpatient        25000 non-null  int64 \n",
      " 7   n_emergency        25000 non-null  int64 \n",
      " 8   medical_specialty  25000 non-null  object\n",
      " 9   diag_1             25000 non-null  object\n",
      " 10  diag_2             25000 non-null  object\n",
      " 11  diag_3             25000 non-null  object\n",
      " 12  glucose_test       25000 non-null  object\n",
      " 13  A1Ctest            25000 non-null  object\n",
      " 14  change             25000 non-null  object\n",
      " 15  diabetes_med       25000 non-null  object\n",
      " 16  readmitted         25000 non-null  object\n",
      "dtypes: int64(7), object(10)\n",
      "memory usage: 3.2+ MB\n",
      "None\n",
      "       time_in_hospital  n_lab_procedures  n_procedures  n_medications  \\\n",
      "count       25000.00000       25000.00000  25000.000000   25000.000000   \n",
      "mean            4.45332          43.24076      1.352360      16.252400   \n",
      "std             3.00147          19.81862      1.715179       8.060532   \n",
      "min             1.00000           1.00000      0.000000       1.000000   \n",
      "25%             2.00000          31.00000      0.000000      11.000000   \n",
      "50%             4.00000          44.00000      1.000000      15.000000   \n",
      "75%             6.00000          57.00000      2.000000      20.000000   \n",
      "max            14.00000         113.00000      6.000000      79.000000   \n",
      "\n",
      "       n_outpatient   n_inpatient   n_emergency  \n",
      "count  25000.000000  25000.000000  25000.000000  \n",
      "mean       0.366400      0.615960      0.186600  \n",
      "std        1.195478      1.177951      0.885873  \n",
      "min        0.000000      0.000000      0.000000  \n",
      "25%        0.000000      0.000000      0.000000  \n",
      "50%        0.000000      0.000000      0.000000  \n",
      "75%        0.000000      1.000000      0.000000  \n",
      "max       33.000000     15.000000     64.000000  \n"
     ]
    }
   ],
   "source": [
    "# Display the first few rows of the dataset\n",
    "print(data.head())\n",
    "\n",
    "# Check for any missing values\n",
    "print(data.isnull().sum())\n",
    "\n",
    "# Get an overview of the dataset\n",
    "print(data.info())\n",
    "\n",
    "# Get statistical summary of numerical features\n",
    "print(data.describe())"
   ]
  },
  {
   "cell_type": "code",
   "execution_count": 4,
   "id": "80cc66db",
   "metadata": {},
   "outputs": [
    {
     "name": "stdout",
     "output_type": "stream",
     "text": [
      "   time_in_hospital  n_lab_procedures  n_procedures  n_medications  \\\n",
      "0                 8                72             1             18   \n",
      "1                 3                34             2             13   \n",
      "2                 5                45             0             18   \n",
      "3                 2                36             0             12   \n",
      "4                 1                42             0              7   \n",
      "\n",
      "   n_outpatient  n_inpatient  n_emergency  glucose_test  A1Ctest  change  ...  \\\n",
      "0             2            0            0             1        1       0  ...   \n",
      "1             0            0            0             1        1       0  ...   \n",
      "2             0            0            0             1        1       1  ...   \n",
      "3             1            0            0             1        1       1  ...   \n",
      "4             0            0            0             1        1       0  ...   \n",
      "\n",
      "   diag_2_Musculoskeletal  diag_2_Other  diag_2_Respiratory  diag_3_Diabetes  \\\n",
      "0                   False         False                True            False   \n",
      "1                   False          True               False            False   \n",
      "2                   False         False               False            False   \n",
      "3                   False          True               False             True   \n",
      "4                   False         False               False            False   \n",
      "\n",
      "   diag_3_Digestive  diag_3_Injury  diag_3_Missing  diag_3_Musculoskeletal  \\\n",
      "0             False          False           False                   False   \n",
      "1             False          False           False                   False   \n",
      "2             False          False           False                   False   \n",
      "3             False          False           False                   False   \n",
      "4             False          False           False                   False   \n",
      "\n",
      "   diag_3_Other  diag_3_Respiratory  \n",
      "0          True               False  \n",
      "1          True               False  \n",
      "2         False               False  \n",
      "3         False               False  \n",
      "4         False                True  \n",
      "\n",
      "[5 rows x 44 columns]\n"
     ]
    }
   ],
   "source": [
    "from sklearn.preprocessing import LabelEncoder\n",
    "\n",
    "# Encode the target column 'readmitted' (yes = 1, no = 0)\n",
    "data['readmitted'] = data['readmitted'].apply(lambda x: 1 if x == 'yes' else 0)\n",
    "\n",
    "# Apply Label Encoding to binary columns\n",
    "binary_cols = ['glucose_test', 'A1Ctest', 'change', 'diabetes_med']\n",
    "\n",
    "le = LabelEncoder()\n",
    "for col in binary_cols:\n",
    "    data[col] = le.fit_transform(data[col])\n",
    "\n",
    "# Apply One-Hot Encoding to categorical columns with more than 2 categories\n",
    "data = pd.get_dummies(data, columns=['age', 'medical_specialty', 'diag_1', 'diag_2', 'diag_3'], drop_first=True)\n",
    "\n",
    "# Check the new structure of the dataset\n",
    "print(data.head())\n"
   ]
  },
  {
   "cell_type": "code",
   "execution_count": 5,
   "id": "9d28979f",
   "metadata": {},
   "outputs": [
    {
     "name": "stdout",
     "output_type": "stream",
     "text": [
      "   time_in_hospital  n_lab_procedures  n_procedures  n_medications  \\\n",
      "0          1.181671          1.451151     -0.205440       0.216814   \n",
      "1         -0.484212         -0.466276      0.377601      -0.403505   \n",
      "2          0.182141          0.088769     -0.788481       0.216814   \n",
      "3         -0.817389         -0.365359     -0.788481      -0.527569   \n",
      "4         -1.150566         -0.062607     -0.788481      -1.147888   \n",
      "\n",
      "   n_outpatient  n_inpatient  n_emergency  glucose_test  A1Ctest  change  ...  \\\n",
      "0      1.366510    -0.522918    -0.210644             1        1       0  ...   \n",
      "1     -0.306494    -0.522918    -0.210644             1        1       0  ...   \n",
      "2     -0.306494    -0.522918    -0.210644             1        1       1  ...   \n",
      "3      0.530008    -0.522918    -0.210644             1        1       1  ...   \n",
      "4     -0.306494    -0.522918    -0.210644             1        1       0  ...   \n",
      "\n",
      "   diag_2_Musculoskeletal  diag_2_Other  diag_2_Respiratory  diag_3_Diabetes  \\\n",
      "0                   False         False                True            False   \n",
      "1                   False          True               False            False   \n",
      "2                   False         False               False            False   \n",
      "3                   False          True               False             True   \n",
      "4                   False         False               False            False   \n",
      "\n",
      "   diag_3_Digestive  diag_3_Injury  diag_3_Missing  diag_3_Musculoskeletal  \\\n",
      "0             False          False           False                   False   \n",
      "1             False          False           False                   False   \n",
      "2             False          False           False                   False   \n",
      "3             False          False           False                   False   \n",
      "4             False          False           False                   False   \n",
      "\n",
      "   diag_3_Other  diag_3_Respiratory  \n",
      "0          True               False  \n",
      "1          True               False  \n",
      "2         False               False  \n",
      "3         False               False  \n",
      "4         False                True  \n",
      "\n",
      "[5 rows x 44 columns]\n"
     ]
    }
   ],
   "source": [
    "from sklearn.preprocessing import StandardScaler\n",
    "\n",
    "# Select numerical columns\n",
    "num_cols = ['time_in_hospital', 'n_lab_procedures', 'n_procedures', 'n_medications', 'n_outpatient', 'n_inpatient', 'n_emergency']\n",
    "\n",
    "# Initialize the scaler\n",
    "scaler = StandardScaler()\n",
    "\n",
    "# Apply scaling to the numerical columns\n",
    "data[num_cols] = scaler.fit_transform(data[num_cols])\n",
    "\n",
    "# Display the dataset after scaling\n",
    "print(data.head())\n"
   ]
  },
  {
   "cell_type": "code",
   "execution_count": 6,
   "id": "5e4c4125",
   "metadata": {},
   "outputs": [
    {
     "name": "stdout",
     "output_type": "stream",
     "text": [
      "Training data shape: (17500, 43)\n",
      "Testing data shape: (7500, 43)\n"
     ]
    }
   ],
   "source": [
    "from sklearn.model_selection import train_test_split\n",
    "\n",
    "# Separate features (X) and target (y)\n",
    "X = data.drop('readmitted', axis=1)\n",
    "y = data['readmitted']\n",
    "\n",
    "# Split the dataset into 70% training and 30% testing\n",
    "X_train, X_test, y_train, y_test = train_test_split(X, y, test_size=0.3, random_state=42)\n",
    "\n",
    "# Check the shapes of the datasets\n",
    "print(\"Training data shape:\", X_train.shape)\n",
    "print(\"Testing data shape:\", X_test.shape)\n"
   ]
  },
  {
   "cell_type": "code",
   "execution_count": 7,
   "id": "699280fb",
   "metadata": {},
   "outputs": [],
   "source": [
    "from sklearn.linear_model import LogisticRegression\n",
    "\n",
    "# Initialize the Logistic Regression model\n",
    "model = LogisticRegression(max_iter=1000)\n",
    "\n",
    "# Fit the model to the training data\n",
    "model.fit(X_train, y_train)\n",
    "\n",
    "# Make predictions on the test data\n",
    "y_pred = model.predict(X_test)\n"
   ]
  },
  {
   "cell_type": "code",
   "execution_count": 8,
   "id": "3ac79a8c",
   "metadata": {},
   "outputs": [
    {
     "name": "stdout",
     "output_type": "stream",
     "text": [
      "Accuracy: 0.61\n",
      "Precision: 0.62\n",
      "Recall: 0.41\n",
      "F1 Score: 0.49\n"
     ]
    }
   ],
   "source": [
    "from sklearn.metrics import accuracy_score, precision_score, recall_score, f1_score\n",
    "\n",
    "# Calculate evaluation metrics\n",
    "accuracy = accuracy_score(y_test, y_pred)\n",
    "precision = precision_score(y_test, y_pred)\n",
    "recall = recall_score(y_test, y_pred)\n",
    "f1 = f1_score(y_test, y_pred)\n",
    "\n",
    "# Print the evaluation results\n",
    "print(f\"Accuracy: {accuracy:.2f}\")\n",
    "print(f\"Precision: {precision:.2f}\")\n",
    "print(f\"Recall: {recall:.2f}\")\n",
    "print(f\"F1 Score: {f1:.2f}\")\n"
   ]
  },
  {
   "cell_type": "markdown",
   "id": "d69243a7",
   "metadata": {},
   "source": [
    "# Few Visulaizations for Better Understanding "
   ]
  },
  {
   "cell_type": "markdown",
   "id": "0d2697b7",
   "metadata": {},
   "source": [
    "### 1. Confusion Matrix Visualization\n",
    "This will help visually represent the performance of Logistic Regression model in terms of true positives, true negatives, false positives, and false negatives."
   ]
  },
  {
   "cell_type": "code",
   "execution_count": 9,
   "id": "59e98e21",
   "metadata": {},
   "outputs": [
    {
     "data": {
      "image/png": "[encoded data removed]",
      "text/plain": [
       "<Figure size 640x480 with 2 Axes>"
      ]
     },
     "metadata": {},
     "output_type": "display_data"
    }
   ],
   "source": [
    "from sklearn.metrics import confusion_matrix\n",
    "import seaborn as sns\n",
    "import matplotlib.pyplot as plt\n",
    "\n",
    "cm = confusion_matrix(y_test, y_pred)\n",
    "sns.heatmap(cm, annot=True, fmt='g')\n",
    "plt.title('Confusion Matrix')\n",
    "plt.show()\n"
   ]
  },
  {
   "cell_type": "markdown",
   "id": "7a2eeaaf",
   "metadata": {},
   "source": [
    "### 2. Feature Importance Visualization\n",
    "This will show which features have the most impact on the model's predictions."
   ]
  },
  {
   "cell_type": "code",
   "execution_count": 15,
   "id": "552b457a",
   "metadata": {},
   "outputs": [
    {
     "data": {
      "image/png": "[encoded data removed]",
      "text/plain": [
       "<Figure size 1000x600 with 1 Axes>"
      ]
     },
     "metadata": {},
     "output_type": "display_data"
    },
    {
     "name": "stdout",
     "output_type": "stream",
     "text": [
      "Feature: time_in_hospital, Coefficient: 0.059759729765268825\n",
      "Feature: n_lab_procedures, Coefficient: 0.011709410619934536\n",
      "Feature: n_procedures, Coefficient: -0.07634518727888327\n",
      "Feature: n_medications, Coefficient: 0.022632306807620687\n",
      "Feature: n_outpatient, Coefficient: 0.1442261708839985\n",
      "Feature: n_inpatient, Coefficient: 0.45021934693205584\n",
      "Feature: n_emergency, Coefficient: 0.20340446079327282\n",
      "Feature: glucose_test, Coefficient: 0.024060401744754323\n",
      "Feature: A1Ctest, Coefficient: -0.026081112029008802\n",
      "Feature: change, Coefficient: 0.03506778357453653\n",
      "Feature: diabetes_med, Coefficient: 0.25030593256035677\n",
      "Feature: age_[50-60), Coefficient: 0.006112636576388617\n",
      "Feature: age_[60-70), Coefficient: 0.17872074505288718\n",
      "Feature: age_[70-80), Coefficient: 0.18742988915183464\n",
      "Feature: age_[80-90), Coefficient: 0.24283758917775997\n",
      "Feature: age_[90-100), Coefficient: -0.07775487252313605\n",
      "Feature: medical_specialty_Emergency/Trauma, Coefficient: 0.008784732921078559\n",
      "Feature: medical_specialty_Family/GeneralPractice, Coefficient: 0.03133318498844429\n",
      "Feature: medical_specialty_InternalMedicine, Coefficient: -0.12975140629044768\n",
      "Feature: medical_specialty_Missing, Coefficient: 0.022955516170010463\n",
      "Feature: medical_specialty_Other, Coefficient: -0.12689224080423775\n",
      "Feature: medical_specialty_Surgery, Coefficient: -0.23203068742138372\n",
      "Feature: diag_1_Diabetes, Coefficient: 0.11970347561425276\n",
      "Feature: diag_1_Digestive, Coefficient: -0.041558840410650624\n",
      "Feature: diag_1_Injury, Coefficient: -0.1421208925501743\n",
      "Feature: diag_1_Missing, Coefficient: 0.0070407707331786185\n",
      "Feature: diag_1_Musculoskeletal, Coefficient: -0.15550163367704176\n",
      "Feature: diag_1_Other, Coefficient: -0.16150386843355063\n",
      "Feature: diag_1_Respiratory, Coefficient: -0.06518932126872465\n",
      "Feature: diag_2_Diabetes, Coefficient: -0.07069155422451838\n",
      "Feature: diag_2_Digestive, Coefficient: -0.17021626496614747\n",
      "Feature: diag_2_Injury, Coefficient: -0.18990310123745363\n",
      "Feature: diag_2_Missing, Coefficient: -0.049248432520150195\n",
      "Feature: diag_2_Musculoskeletal, Coefficient: -0.010858595591816405\n",
      "Feature: diag_2_Other, Coefficient: -0.10680970890474081\n",
      "Feature: diag_2_Respiratory, Coefficient: -0.10112335939354279\n",
      "Feature: diag_3_Diabetes, Coefficient: -0.06689695076096037\n",
      "Feature: diag_3_Digestive, Coefficient: 0.06841224884613976\n",
      "Feature: diag_3_Injury, Coefficient: -0.22878938646477695\n",
      "Feature: diag_3_Missing, Coefficient: -0.5358226073634571\n",
      "Feature: diag_3_Musculoskeletal, Coefficient: -0.17806283874416462\n",
      "Feature: diag_3_Other, Coefficient: -0.11207073776275087\n",
      "Feature: diag_3_Respiratory, Coefficient: -0.06388191431785947\n"
     ]
    }
   ],
   "source": [
    "# Extracting feature importance from the Logistic Regression model\n",
    "importance = model.coef_[0]\n",
    "\n",
    "# Plotting feature importance\n",
    "plt.figure(figsize=(10, 6))\n",
    "plt.bar([x for x in range(len(importance))], importance)\n",
    "plt.title('Feature Importance')\n",
    "plt.xlabel('Feature Index')\n",
    "plt.ylabel('Coefficient Value')\n",
    "plt.show()\n",
    "\n",
    "# maping these indices back to feature names:\n",
    "for i, v in enumerate(importance):\n",
    "    print(f\"Feature: {X.columns[i]}, Coefficient: {v}\")\n"
   ]
  },
  {
   "cell_type": "markdown",
   "id": "f58b233d",
   "metadata": {},
   "source": [
    "### 3. Checking Imbalance in the Target Variable\n",
    "To check if the dataset is imbalanced in terms of the readmission column."
   ]
  },
  {
   "cell_type": "code",
   "execution_count": 12,
   "id": "7a67542d",
   "metadata": {},
   "outputs": [
    {
     "data": {
      "image/png": "[encoded data removed]",
      "text/plain": [
       "<Figure size 640x480 with 1 Axes>"
      ]
     },
     "metadata": {},
     "output_type": "display_data"
    }
   ],
   "source": [
    "# Checking the distribution of the target variable\n",
    "sns.countplot(x='readmitted', data=data)\n",
    "plt.title('Distribution of Readmission Labels')\n",
    "plt.show()\n"
   ]
  },
  {
   "cell_type": "markdown",
   "id": "8d017a85",
   "metadata": {},
   "source": [
    "### 4. Precision-Recall Curve\n",
    "Since healthcare predictions often prioritize recall, A Precision-Recall curve can better explain the model’s performance on imbalanced data."
   ]
  },
  {
   "cell_type": "code",
   "execution_count": 14,
   "id": "56b81371",
   "metadata": {},
   "outputs": [
    {
     "data": {
      "image/png": "[encoded data removed]",
      "text/plain": [
       "<Figure size 640x480 with 1 Axes>"
      ]
     },
     "metadata": {},
     "output_type": "display_data"
    }
   ],
   "source": [
    "from sklearn.metrics import precision_recall_curve\n",
    "\n",
    "# Get precision-recall curve\n",
    "precision, recall, _ = precision_recall_curve(y_test, model.predict_proba(X_test)[:, 1])\n",
    "\n",
    "# Plotting precision-recall curve\n",
    "plt.plot(recall, precision, marker='.')\n",
    "plt.title('Precision-Recall Curve')\n",
    "plt.xlabel('Recall')\n",
    "plt.ylabel('Precision')\n",
    "plt.show()\n"
   ]
  },
  {
   "cell_type": "code",
   "execution_count": null,
   "id": "59cf5975",
   "metadata": {},
   "outputs": [],
   "source": []
  }
 ],
 "metadata": {
  "kernelspec": {
   "display_name": "Python 3 (ipykernel)",
   "language": "python",
   "name": "python3"
  },
  "language_info": {
   "codemirror_mode": {
    "name": "ipython",
    "version": 3
   },
   "file_extension": ".py",
   "mimetype": "text/x-python",
   "name": "python",
   "nbconvert_exporter": "python",
   "pygments_lexer": "ipython3",
   "version": "3.11.9"
  }
 },
 "nbformat": 4,
 "nbformat_minor": 5
}
